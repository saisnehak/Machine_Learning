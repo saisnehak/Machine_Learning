{
 "cells": [
  {
   "cell_type": "code",
   "execution_count": 11,
   "id": "92f72c59-a851-4390-a5ff-19917e5427a6",
   "metadata": {},
   "outputs": [
    {
     "name": "stdout",
     "output_type": "stream",
     "text": [
      "Total Requests: 6\n",
      "Total Errors: 3\n",
      "User Agents:\n",
      "Unknown: 6\n"
     ]
    }
   ],
   "source": [
    "def create_sample_log(file_path):\n",
    "    sample_logs = [\n",
    "        '127.0.0.1 - - [10/Oct/2024:14:45:30 +0000] \"GET /index.html HTTP/1.1\" 200 \"Mozilla/5.0\"',\n",
    "        '127.0.0.1 - - [10/Oct/2024:14:45:35 +0000] \"GET /about.html HTTP/1.1\" 404 \"Mozilla/5.0\"',\n",
    "        '127.0.0.1 - - [10/Oct/2024:14:45:40 +0000] \"GET /contact.html HTTP/1.1\" 500 \"Chrome/96.0\"',\n",
    "        '127.0.0.1 - - [10/Oct/2024:14:45:45 +0000] \"GET /home.html HTTP/1.1\" 200 \"Safari/537.36\"',\n",
    "        '127.0.0.1 - - [10/Oct/2024:14:45:50 +0000] \"GET /services.html HTTP/1.1\" 404 \"Edge/88.0\"',\n",
    "        '127.0.0.1 - - [10/Oct/2024:14:45:55 +0000] \"GET /pricing.html HTTP/1.1\" 200 \"Mozilla/5.0\"'\n",
    "    ]\n",
    "\n",
    "    with open(file_path, 'w') as file:\n",
    "        for log in sample_logs:\n",
    "            file.write(log + \"\\n\")\n",
    "\n",
    "# Generate a sample log file\n",
    "create_sample_log('server.log')\n",
    "def analyze_log_file(file_path):\n",
    "    total_requests = 0\n",
    "    error_count = 0\n",
    "    user_agents = {}\n",
    "\n",
    "    with open(file_path, 'r') as file:\n",
    "        for line in file:\n",
    "            total_requests += 1\n",
    "\n",
    "            # Check for errors (assuming 4xx and 5xx status codes indicate errors)\n",
    "            if ' 404 ' in line or ' 500 ' in line:\n",
    "                error_count += 1\n",
    "\n",
    "            # Extract the user agent (last field in the log line)\n",
    "            parts = line.split('\"')\n",
    "            if len(parts) > 5:  # Ensure the log line has a user agent field\n",
    "                user_agent = parts[-2]\n",
    "            else:\n",
    "                user_agent = 'Unknown'\n",
    "\n",
    "            # Count occurrences of each user agent\n",
    "            if user_agent in user_agents:\n",
    "                user_agents[user_agent] += 1\n",
    "            else:\n",
    "                user_agents[user_agent] = 1\n",
    "\n",
    "    # Display the summary\n",
    "    print(f\"Total Requests: {total_requests}\")\n",
    "    print(f\"Total Errors: {error_count}\")\n",
    "    print(\"User Agents:\")\n",
    "    for agent, count in user_agents.items():\n",
    "        print(f\"{agent}: {count}\")\n",
    "\n",
    "# Analyze the generated log file\n",
    "analyze_log_file('server.log')\n"
   ]
  },
  {
   "cell_type": "code",
   "execution_count": null,
   "id": "c7e70796-4997-41c4-a2ab-b46f3d3dcdb3",
   "metadata": {},
   "outputs": [],
   "source": []
  }
 ],
 "metadata": {
  "kernelspec": {
   "display_name": "Python 3 (ipykernel)",
   "language": "python",
   "name": "python3"
  },
  "language_info": {
   "codemirror_mode": {
    "name": "ipython",
    "version": 3
   },
   "file_extension": ".py",
   "mimetype": "text/x-python",
   "name": "python",
   "nbconvert_exporter": "python",
   "pygments_lexer": "ipython3",
   "version": "3.12.4"
  }
 },
 "nbformat": 4,
 "nbformat_minor": 5
}
