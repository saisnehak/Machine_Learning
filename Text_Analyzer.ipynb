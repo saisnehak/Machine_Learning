{
 "cells": [
  {
   "cell_type": "code",
   "execution_count": 9,
   "id": "2319a05d-8422-492c-aedf-d944ce5cb59f",
   "metadata": {},
   "outputs": [
    {
     "name": "stdin",
     "output_type": "stream",
     "text": [
      "Enter a paragraph of text:  be good and do good\n"
     ]
    },
    {
     "name": "stdout",
     "output_type": "stream",
     "text": [
      "\n",
      "Analysis Results:\n",
      "===================\n",
      "Word Count: 5\n",
      "Character Count: 19\n",
      "Unique Words: 4\n",
      "\n",
      "Word Frequency:\n",
      "and: 1\n",
      "be: 1\n",
      "do: 1\n",
      "good: 2\n",
      "\n",
      "First 30 Characters of Input:\n",
      "be good and do good...\n"
     ]
    }
   ],
   "source": [
    "def analyze(text):\n",
    "    # Use lists to split the text into words\n",
    "    words = text.split()                       # Splits  text into a list of words\n",
    "    word_count = len(words)                                                       # Count total no.of words\n",
    "    char_count = len(text)                                                                                  # Count total no.of characters\n",
    "    unique_words = set(words)    # Using set to find unique words\n",
    "\n",
    "   \n",
    "    word_frequency = {}                                                 # Using dictionary to count fequency of each&every word\n",
    "    for word in words:\n",
    "        word_frequency[word] = word_frequency.get(word, 0) + 1\n",
    "\n",
    "    \n",
    "    print(\"\\nAnalysis Results:\")              # Display results with formatting\n",
    "    print(\"===================\")\n",
    "    print(f\"Word Count: {word_count}\")\n",
    "    print(f\"Character Count: {char_count}\")\n",
    "    print(f\"Unique Words: {len(unique_words)}\")  # Number of unique words\n",
    "\n",
    "    \n",
    "    print(\"\\nWord Frequency:\")                               # Display word frequency \n",
    "    for word, frequency in sorted(word_frequency.items()):  # Sort alphabetically to read\n",
    "        print(f\"{word}: {frequency}\")\n",
    "\n",
    "    # Implement string slicing to display first 30 characters\n",
    "    print(f\"\\nFirst 30 Characters of Input:\\n{text[:30]}...\")  # Show first 30 characters of the input text\n",
    "\n",
    "\n",
    "text = input(\"Enter a paragraph of text: \")        #  user input and analyzing the text\n",
    "analyze(text)\n"
   ]
  },
  {
   "cell_type": "code",
   "execution_count": null,
   "id": "79d50a06-7689-4075-b8ad-ede221250e58",
   "metadata": {},
   "outputs": [],
   "source": []
  }
 ],
 "metadata": {
  "kernelspec": {
   "display_name": "Python 3 (ipykernel)",
   "language": "python",
   "name": "python3"
  },
  "language_info": {
   "codemirror_mode": {
    "name": "ipython",
    "version": 3
   },
   "file_extension": ".py",
   "mimetype": "text/x-python",
   "name": "python",
   "nbconvert_exporter": "python",
   "pygments_lexer": "ipython3",
   "version": "3.12.4"
  }
 },
 "nbformat": 4,
 "nbformat_minor": 5
}
