{
 "cells": [
  {
   "cell_type": "code",
   "execution_count": 3,
   "id": "48b3819a-970c-4d14-b08e-78326ac5e052",
   "metadata": {},
   "outputs": [
    {
     "name": "stdout",
     "output_type": "stream",
     "text": [
      "\n",
      "Options:\n",
      "1. Add Task\n",
      "2. Complete Task\n",
      "3. Remove Task\n",
      "4. Display Tasks\n",
      "5. Exit\n"
     ]
    },
    {
     "name": "stdin",
     "output_type": "stream",
     "text": [
      "Enter your choice (1-5):  1\n",
      "Enter task name:  Maths exam\n",
      "Enter due date (e.g., 2023-12-31):  1-10-2024\n"
     ]
    },
    {
     "name": "stdout",
     "output_type": "stream",
     "text": [
      "Task 'Maths exam' added successfully.\n",
      "\n",
      "Options:\n",
      "1. Add Task\n",
      "2. Complete Task\n",
      "3. Remove Task\n",
      "4. Display Tasks\n",
      "5. Exit\n"
     ]
    },
    {
     "name": "stdin",
     "output_type": "stream",
     "text": [
      "Enter your choice (1-5):  2\n"
     ]
    },
    {
     "name": "stdout",
     "output_type": "stream",
     "text": [
      "\n",
      "Task List:\n",
      "\n",
      "Incomplete Tasks:\n",
      "  1. [ID: 1] Task: Maths exam, Due: 1-10-2024\n",
      "\n",
      "Completed Tasks:\n",
      "  None\n",
      "\n"
     ]
    },
    {
     "name": "stdin",
     "output_type": "stream",
     "text": [
      "Enter task ID:  1\n"
     ]
    },
    {
     "name": "stdout",
     "output_type": "stream",
     "text": [
      "Task 'Maths exam' marked as completed.\n",
      "\n",
      "Options:\n",
      "1. Add Task\n",
      "2. Complete Task\n",
      "3. Remove Task\n",
      "4. Display Tasks\n",
      "5. Exit\n"
     ]
    },
    {
     "name": "stdin",
     "output_type": "stream",
     "text": [
      "Enter your choice (1-5):  3\n"
     ]
    },
    {
     "name": "stdout",
     "output_type": "stream",
     "text": [
      "\n",
      "Task List:\n",
      "\n",
      "Incomplete Tasks:\n",
      "  None\n",
      "\n",
      "Completed Tasks:\n",
      "  1. [ID: 1] Task: Maths exam, Due: 1-10-2024\n",
      "\n"
     ]
    },
    {
     "name": "stdin",
     "output_type": "stream",
     "text": [
      "Enter task ID:  1\n"
     ]
    },
    {
     "name": "stdout",
     "output_type": "stream",
     "text": [
      "Task 'Maths exam' removed successfully.\n",
      "\n",
      "Options:\n",
      "1. Add Task\n",
      "2. Complete Task\n",
      "3. Remove Task\n",
      "4. Display Tasks\n",
      "5. Exit\n"
     ]
    },
    {
     "name": "stdin",
     "output_type": "stream",
     "text": [
      "Enter your choice (1-5):  4\n"
     ]
    },
    {
     "name": "stdout",
     "output_type": "stream",
     "text": [
      "\n",
      "No tasks available.\n",
      "\n",
      "Options:\n",
      "1. Add Task\n",
      "2. Complete Task\n",
      "3. Remove Task\n",
      "4. Display Tasks\n",
      "5. Exit\n"
     ]
    },
    {
     "name": "stdin",
     "output_type": "stream",
     "text": [
      "Enter your choice (1-5):  5\n"
     ]
    },
    {
     "name": "stdout",
     "output_type": "stream",
     "text": [
      "Exiting the task manager. Goodbye!\n"
     ]
    }
   ],
   "source": [
    "\n",
    "\n",
    "tasks = []                                           # Initializing empty list to store tasks\n",
    "\n",
    "def add_task(task_name, due_date):\n",
    "    \"\"\"\n",
    "    Adds a new task to the tasks list.\n",
    "\n",
    "    Parameters:\n",
    "    - task_name (str): The name of the task.\n",
    "    - due_date (str): The due date of the task in YYYY-MM-DD format.\n",
    "    \"\"\"\n",
    "    # Create a tuple for the new task\n",
    "    task = (task_name, due_date, False)              # False indicates the task is incomplete\n",
    "    tasks.append(task)                                                                        # Add the task to the tasks list\n",
    "    print(f\"Task '{task_name}' added successfully.\")\n",
    "\n",
    "def complete_task(task_index):\n",
    "    \"\"\"\n",
    "    Marks a task as completed.\n",
    "\n",
    "    Parameters:\n",
    "    - task_index (int): The index of the task to mark as completed (0-based).\n",
    "    \"\"\"\n",
    "    try:\n",
    "        # Retrieve the task from the list using the index\n",
    "        task = tasks[task_index]                                     \n",
    "        task_name, due_date, _ = task                                                 # Unpack the tuple\n",
    "        # Update the task's status to True (completed)\n",
    "        tasks[task_index] = (task_name, due_date, True)\n",
    "        print(f\"Task '{task_name}' marked as completed.\")\n",
    "    except IndexError:\n",
    "        print(\"Error: Task index is out of range. Please try again.\")\n",
    "\n",
    "def remove_task(task_index):\n",
    "    \"\"\"\n",
    "    Removes a task from the tasks list.\n",
    "\n",
    "    Parameters:\n",
    "    - task_index (int): The index of the task to remove (0-based).\n",
    "    \"\"\"\n",
    "    try:\n",
    "        # Remove the task from the list\n",
    "        removed_task = tasks.pop(task_index)\n",
    "        print(f\"Task '{removed_task[0]}' removed successfully.\")\n",
    "    except IndexError:\n",
    "        print(\"Error: Task index is out of range. Please try again.\")\n",
    "\n",
    "def display_tasks():\n",
    "    \"\"\"\n",
    "    Displays all tasks grouped by their completion status.\n",
    "    \"\"\"\n",
    "    if not tasks:\n",
    "        print(\"\\nNo tasks available.\")\n",
    "        return  # Exit the function if there are no tasks\n",
    "\n",
    "    # Create a dictionary to group tasks by status\n",
    "    grouped_tasks = {\"Incomplete\": [], \"Completed\": []}\n",
    "\n",
    "    # Iterate over the tasks list and group tasks\n",
    "    for index, task in enumerate(tasks):\n",
    "        task_name, due_date, status = task  # Unpack the tuple\n",
    "        status_str = \"Completed\" if status else \"Incomplete\"\n",
    "        grouped_tasks[status_str].append((index, task_name, due_date))\n",
    "\n",
    "    print(\"\\nTask List:\")\n",
    "    # Iterate over the grouped_tasks dictionary to display tasks\n",
    "    for status, task_list in grouped_tasks.items():\n",
    "        print(f\"\\n{status} Tasks:\")\n",
    "        if not task_list:\n",
    "            print(\"  None\")\n",
    "            continue  # Move to the next group if current group is empty\n",
    "        for display_index, (task_index, task_name, due_date) in enumerate(task_list, 1):\n",
    "            # Display each task with a unique ID (1-based index)\n",
    "            print(f\"  {display_index}. [ID: {task_index + 1}] Task: {task_name}, Due: {due_date}\")\n",
    "    print()  # Add an empty line for better readability\n",
    "\n",
    "def get_task_id():\n",
    "    \"\"\"\n",
    "    Prompts the user to enter a task ID and validates the input.\n",
    "\n",
    "    Returns:\n",
    "    - task_index (int): The 0-based index of the task.\n",
    "    \"\"\"\n",
    "    while True:\n",
    "        try:\n",
    "            task_id = int(input(\"Enter task ID: \"))\n",
    "            if 1 <= task_id <= len(tasks):\n",
    "                return task_id - 1  # Convert to 0-based index\n",
    "            else:\n",
    "                print(\"Error: Task ID is out of range. Please try again.\")\n",
    "        except ValueError:\n",
    "            print(\"Error: Please enter a valid number.\")\n",
    "\n",
    "def task_manager():\n",
    "    \"\"\"\n",
    "    Main function to manage tasks. Provides a menu for user interaction.\n",
    "    \"\"\"\n",
    "    while True:\n",
    "        # Display the menu options\n",
    "        print(\"\\nOptions:\")\n",
    "        print(\"1. Add Task\")\n",
    "        print(\"2. Complete Task\")\n",
    "        print(\"3. Remove Task\")\n",
    "        print(\"4. Display Tasks\")\n",
    "        print(\"5. Exit\")\n",
    "\n",
    "        try:\n",
    "            # Prompt the user to choose an option\n",
    "            choice = int(input(\"Enter your choice (1-5): \"))\n",
    "        except ValueError:\n",
    "            print(\"Error: Please enter a valid number.\")\n",
    "            continue  # Restart the loop if input is invalid\n",
    "\n",
    "        if choice == 1:\n",
    "            # Add a new task\n",
    "            task_name = input(\"Enter task name: \").strip()\n",
    "            if not task_name:\n",
    "                print(\"Error: Task name cannot be empty.\")\n",
    "                continue\n",
    "            due_date = input(\"Enter due date (e.g., 2023-12-31): \").strip()\n",
    "            if not due_date:\n",
    "                print(\"Error: Due date cannot be empty.\")\n",
    "                continue\n",
    "            add_task(task_name, due_date)\n",
    "        elif choice == 2:\n",
    "            # Complete a task\n",
    "            display_tasks()\n",
    "            if tasks:\n",
    "                task_index = get_task_id()\n",
    "                complete_task(task_index)\n",
    "        elif choice == 3:\n",
    "            # Remove a task\n",
    "            display_tasks()\n",
    "            if tasks:\n",
    "                task_index = get_task_id()\n",
    "                remove_task(task_index)\n",
    "        elif choice == 4:\n",
    "            # Display all tasks\n",
    "            display_tasks()\n",
    "        elif choice == 5:\n",
    "            # Exit the program\n",
    "            print(\"Exiting the task manager. Goodbye!\")\n",
    "            break  # Exit the loop and end the program\n",
    "        else:\n",
    "            # Handle invalid menu choices\n",
    "            print(\"Error: Invalid choice. Please select between 1 and 5.\")\n",
    "\n",
    "if __name__ == \"__main__\":\n",
    "    task_manager()\n"
   ]
  },
  {
   "cell_type": "code",
   "execution_count": null,
   "id": "b9cfb173-3fdb-4c90-83e6-0c6e6efc5010",
   "metadata": {},
   "outputs": [],
   "source": []
  }
 ],
 "metadata": {
  "kernelspec": {
   "display_name": "Python 3 (ipykernel)",
   "language": "python",
   "name": "python3"
  },
  "language_info": {
   "codemirror_mode": {
    "name": "ipython",
    "version": 3
   },
   "file_extension": ".py",
   "mimetype": "text/x-python",
   "name": "python",
   "nbconvert_exporter": "python",
   "pygments_lexer": "ipython3",
   "version": "3.12.4"
  }
 },
 "nbformat": 4,
 "nbformat_minor": 5
}
