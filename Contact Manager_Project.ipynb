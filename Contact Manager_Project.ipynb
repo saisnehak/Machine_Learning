{
 "cells": [
  {
   "cell_type": "markdown",
   "id": "89d2e71e-b7b0-4f06-a396-d671a4acc70f",
   "metadata": {},
   "source": [
    "## Q:Create a program that allows users to store, search, and update contact details using a dictionary-based system."
   ]
  },
  {
   "cell_type": "markdown",
   "id": "9ac8caf0-1e8b-417b-b136-0cc01f0bbb79",
   "metadata": {},
   "source": [
    "####  Use **dictionaries** to store contact names as keys and details (e.g., phone number, email) as values."
   ]
  },
  {
   "cell_type": "markdown",
   "id": "e3c2d04b-270f-4462-b821-10b2816808cc",
   "metadata": {},
   "source": [
    "####  Practice **dictionary comprehensions** to filter contacts by certain criteria (e.g., all contacts with a Gmail address).\n"
   ]
  },
  {
   "cell_type": "markdown",
   "id": "160fa5f1-8281-4c2e-a31b-6ecd5d3fb3e1",
   "metadata": {},
   "source": [
    "####  Practice **string manipulation** to format and display contact details."
   ]
  },
  {
   "cell_type": "code",
   "execution_count": 5,
   "id": "7088a3dd-5e67-406d-856a-66c511dcb304",
   "metadata": {},
   "outputs": [],
   "source": [
    "contacts={\n",
    "    \n",
    "    'Sneha': {'phone': '123-111-1111', 'email': 'sneha@gmail.com'},\n",
    "    'Jeeva': {'phone': '123-222-2222', 'email': 'jeeva@gmail.com'},\n",
    "    'Slagi': {'phone': '123-333-3333', 'email': 'slagi@gmail.com'},\n",
    "    'Trishik': {'phone': '123-444-4444', 'email': 'trishik@gmail.com'},\n",
    "    'Samadvika': {'phone': '123-555-5555', 'email': 'samadvika@gmail.com'}\n",
    "    \n",
    "}                                                                                     # Names as keys&phone numbers,email id   as values"
   ]
  },
  {
   "cell_type": "code",
   "execution_count": 6,
   "id": "63d8575e-b5c7-4b54-ad39-f4ca70a64011",
   "metadata": {},
   "outputs": [
    {
     "name": "stdout",
     "output_type": "stream",
     "text": [
      "Name: Sneha,\n",
      " Email: sneha@gmail.com\n",
      "\n",
      "Name: Jeeva,\n",
      " Email: jeeva@gmail.com\n",
      "\n",
      "Name: Slagi,\n",
      " Email: slagi@gmail.com\n",
      "\n",
      "Name: Trishik,\n",
      " Email: trishik@gmail.com\n",
      "\n",
      "Name: Samadvika,\n",
      " Email: samadvika@gmail.com\n",
      "\n"
     ]
    }
   ],
   "source": [
    "filtered_contacts = dict(filter(lambda item: 'gmail.com' in item[1]['email'],contacts.items())) # Filtering contacts with  gmail\n",
    "\n",
    "for name, info in contacts.items():\n",
    "    print(f\"Name: {name},\\n Email: {info['email']}\\n\")       #Displaying the filtered names with gmail in contacts"
   ]
  },
  {
   "cell_type": "code",
   "execution_count": 7,
   "id": "1f13a3c9-f8b5-4611-98a7-e5e74543d20d",
   "metadata": {},
   "outputs": [
    {
     "name": "stdout",
     "output_type": "stream",
     "text": [
      "Name: Sneha\n",
      "Phone: 123-111-1111\n",
      "Email: sneha@gmail.com\n",
      "\n",
      "Name: Jeeva\n",
      "Phone: 123-222-2222\n",
      "Email: jeeva@gmail.com\n",
      "\n",
      "Name: Slagi\n",
      "Phone: 123-333-3333\n",
      "Email: slagi@gmail.com\n",
      "\n",
      "Name: Trishik\n",
      "Phone: 123-444-4444\n",
      "Email: trishik@gmail.com\n",
      "\n",
      "Name: Samadvika\n",
      "Phone: 123-555-5555\n",
      "Email: samadvika@gmail.com\n",
      "\n"
     ]
    }
   ],
   "source": [
    "for name, info in contacts.items():\n",
    "    print(\"Name: {}\\nPhone: {}\\nEmail: {}\\n\".format(name, info['phone'], info['email'])) #formatting contact details using string manipulation"
   ]
  },
  {
   "cell_type": "code",
   "execution_count": 8,
   "id": "a94a3dd2-cebd-406e-b18b-09db8c18750d",
   "metadata": {},
   "outputs": [
    {
     "name": "stdout",
     "output_type": "stream",
     "text": [
      "Displaying all contacts:\n",
      "Name: Sneha, Email: sneha@gmail.com\n",
      "Name: Jeeva, Email: jeeva@gmail.com\n",
      "Name: Slagi, Email: slagi@gmail.com\n",
      "Name: Trishik, Email: trishik@gmail.com\n",
      "Name: Samadvika, Email: samadvika@gmail.com\n"
     ]
    }
   ],
   "source": [
    "print(\"Displaying all contacts:\")   # displaying the contact details \n",
    "_ = list(map(lambda item: print(f\"Name: {item[0]}, Email: {item[1]['email']}\"), contacts.items()))"
   ]
  },
  {
   "cell_type": "code",
   "execution_count": 23,
   "id": "001ff2e5-ae53-4241-bf60-1f1f4a0ddf3f",
   "metadata": {},
   "outputs": [
    {
     "name": "stdout",
     "output_type": "stream",
     "text": [
      "Enter the name to search:  Sneha\n"
     ]
    },
    {
     "name": "stdout",
     "output_type": "stream",
     "text": [
      "Name: Sneha\n",
      "Phone: 123-111-1111\n",
      "Email: sneha@gmail.com\n"
     ]
    }
   ],
   "source": [
    "contacts = {\n",
    "    'Sneha': {'phone': '123-111-1111', 'email': 'sneha@gmail.com'},\n",
    "    'Jeeva': {'phone': '123-222-2222', 'email': 'jeeva@gmail.com'},\n",
    "    'Slagi': {'phone': '123-333-3333'},  # Missing email key\n",
    "    'Trishik': {'phone': '123-444-4444', 'email': 'trishik@gmail.com'},\n",
    "    'Samadvika': {'phone': '123-555-5555', 'email': 'samadvika@gmail.com'}\n",
    "}\n",
    "\n",
    "search_name = input(\"Enter the name to search: \").strip()\n",
    "if search_name in contacts:\n",
    "    info = contacts[search_name]\n",
    "    print(f\"Name: {search_name}\")\n",
    "    print(f\"Phone: {info['phone']}\")\n",
    "    try:\n",
    "        print(f\"Email: {info['email']}\")\n",
    "    except KeyError:\n",
    "        print(f\"Email: Not available\")\n",
    "else:\n",
    "    print(f\"Name '{search_name}' not found in contacts.\")                      #To search the contact details\n",
    "    "
   ]
  },
  {
   "cell_type": "code",
   "execution_count": 10,
   "id": "0c10ae99-faba-439a-a893-72c1b891a0cb",
   "metadata": {},
   "outputs": [
    {
     "name": "stdout",
     "output_type": "stream",
     "text": [
      "{'Sneha': {'phone': '111-222-333'}, 'Jeeva': {'phone': '123-222-2222', 'email': 'jeeva@gmail.com'}, 'Slagi': {'phone': '123-333-3333'}, 'Trishik': {'phone': '123-444-4444', 'email': 'trishik@gmail.com'}, 'Samadvika': {'phone': '123-555-5555', 'email': 'samadvika@gmail.com'}}\n"
     ]
    }
   ],
   "source": [
    "contacts.update({'Sneha':{'phone':'111-222-333'}})\n",
    "print(contacts)                                                #To update the contact details"
   ]
  },
  {
   "cell_type": "code",
   "execution_count": null,
   "id": "250d43c5-c2c2-4b99-97b2-0ceb2dcbaf0a",
   "metadata": {},
   "outputs": [],
   "source": []
  },
  {
   "cell_type": "code",
   "execution_count": null,
   "id": "42eaff3e-6c25-4607-93f8-7e238aced789",
   "metadata": {},
   "outputs": [],
   "source": []
  }
 ],
 "metadata": {
  "kernelspec": {
   "display_name": "Python 3 (ipykernel)",
   "language": "python",
   "name": "python3"
  },
  "language_info": {
   "codemirror_mode": {
    "name": "ipython",
    "version": 3
   },
   "file_extension": ".py",
   "mimetype": "text/x-python",
   "name": "python",
   "nbconvert_exporter": "python",
   "pygments_lexer": "ipython3",
   "version": "3.12.4"
  }
 },
 "nbformat": 4,
 "nbformat_minor": 5
}
