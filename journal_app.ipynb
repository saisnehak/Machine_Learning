{
 "cells": [
  {
   "cell_type": "code",
   "execution_count": 8,
   "id": "26d0e457-0f98-4afc-920b-2ab05087839a",
   "metadata": {},
   "outputs": [
    {
     "name": "stdout",
     "output_type": "stream",
     "text": [
      "\n",
      "Personal Journal Menu:\n",
      "1. Write a new journal entry\n",
      "2. Retrieve a journal entry by date\n",
      "3. Exit\n"
     ]
    },
    {
     "name": "stdin",
     "output_type": "stream",
     "text": [
      "Choose an option (1/2/3):  1\n",
      "Do you want to use today's date? (yes/no):  Yes\n",
      "Enter your journal entry for 2024-10-08:\n",
      " journal app coding\n"
     ]
    },
    {
     "name": "stdout",
     "output_type": "stream",
     "text": [
      "Journal entry saved.\n",
      "\n",
      "Personal Journal Menu:\n",
      "1. Write a new journal entry\n",
      "2. Retrieve a journal entry by date\n",
      "3. Exit\n"
     ]
    },
    {
     "name": "stdin",
     "output_type": "stream",
     "text": [
      "Choose an option (1/2/3):  2\n",
      "Enter the date (YYYY-MM-DD) of the entry you want to retrieve:\n",
      " 2024-10-09\n"
     ]
    },
    {
     "name": "stdout",
     "output_type": "stream",
     "text": [
      "Journal entry for 2024-10-09:\n",
      "\n",
      "j\n",
      "sneha\n",
      "jeeva kovuri\n",
      "\n",
      "\n",
      "Personal Journal Menu:\n",
      "1. Write a new journal entry\n",
      "2. Retrieve a journal entry by date\n",
      "3. Exit\n"
     ]
    },
    {
     "name": "stdin",
     "output_type": "stream",
     "text": [
      "Choose an option (1/2/3):  1\n",
      "Do you want to use today's date? (yes/no):  no\n",
      "Enter the date for your journal entry (YYYY-MM-DD):  2024-10-09\n",
      "Enter your journal entry for 2024-10-09:\n",
      " om sai ram\n"
     ]
    },
    {
     "name": "stdout",
     "output_type": "stream",
     "text": [
      "Journal entry saved.\n",
      "\n",
      "Personal Journal Menu:\n",
      "1. Write a new journal entry\n",
      "2. Retrieve a journal entry by date\n",
      "3. Exit\n"
     ]
    },
    {
     "name": "stdin",
     "output_type": "stream",
     "text": [
      "Choose an option (1/2/3):  2\n",
      "Enter the date (YYYY-MM-DD) of the entry you want to retrieve:\n",
      " 2024-10-09\n"
     ]
    },
    {
     "name": "stdout",
     "output_type": "stream",
     "text": [
      "Journal entry for 2024-10-09:\n",
      "\n",
      "j\n",
      "sneha\n",
      "jeeva kovuri\n",
      "om sai ram\n",
      "\n",
      "\n",
      "Personal Journal Menu:\n",
      "1. Write a new journal entry\n",
      "2. Retrieve a journal entry by date\n",
      "3. Exit\n"
     ]
    },
    {
     "name": "stdin",
     "output_type": "stream",
     "text": [
      "Choose an option (1/2/3):  3\n"
     ]
    },
    {
     "name": "stdout",
     "output_type": "stream",
     "text": [
      "Exiting the journal. Goodbye!\n"
     ]
    }
   ],
   "source": [
    "import os\n",
    "from datetime import datetime\n",
    "\n",
    "\n",
    "JOURNAL_DIR = \"journal_entries\"       # Directory to store journal entries\n",
    "\n",
    "def create_journal_directory():\n",
    "    #Create the journal directory if it doesn't exist\n",
    "    if not os.path.exists(JOURNAL_DIR):\n",
    "        os.makedirs(JOURNAL_DIR)\n",
    "\n",
    "def write_entry():\n",
    "    \"\"\"Write a new journal entry, allowing the user to choose the date.\"\"\"\n",
    "    # Ask the user if they want to use today's date\n",
    "    use_current_date = input(\"Do you want to use today's date? (yes/no): \").strip().lower()\n",
    "    \n",
    "    # If yes, get today's date\n",
    "    if use_current_date == 'yes':\n",
    "        date = datetime.today().strftime('%Y-%m-%d')\n",
    "    else:\n",
    "        # If no, ask for the date\n",
    "        date = input(\"Enter the date for your journal entry (YYYY-MM-DD): \").strip()\n",
    "\n",
    "    # Ask for the journal entry text\n",
    "    entry = input(f\"Enter your journal entry for {date}:\\n\")\n",
    "\n",
    "    # Save the entry to a file named after the date\n",
    "    file_name = f\"{JOURNAL_DIR}/{date}.txt\"\n",
    "    with open(file_name, 'a') as file:  # Open the file in append mode\n",
    "        file.write(f\"{entry}\\n\")  # Write the entry to the file\n",
    "\n",
    "    print(\"Journal entry saved.\")\n",
    "\n",
    "def retrieve_entry():\n",
    "    \"\"\"Retrieve a journal entry for a specific date.\"\"\"\n",
    "    # Ask for the date to retrieve the entry\n",
    "    date = input(\"Enter the date (YYYY-MM-DD) of the entry you want to retrieve:\\n\").strip()\n",
    "    file_name = f\"{JOURNAL_DIR}/{date}.txt\"\n",
    "\n",
    "    # Check if the file exists\n",
    "    if os.path.exists(file_name):\n",
    "        with open(file_name, 'r') as file:  # Open the file in read mode\n",
    "            print(f\"Journal entry for {date}:\\n\")\n",
    "            print(file.read())  # Print the contents of the file\n",
    "    else:\n",
    "        print(f\"No journal entry found for {date}.\")\n",
    "\n",
    "def journal_menu():\n",
    "    \"\"\"Display the menu options for the journal app.\"\"\"\n",
    "    while True:\n",
    "        print(\"\\nPersonal Journal Menu:\")\n",
    "        print(\"1. Write a new journal entry\")\n",
    "        print(\"2. Retrieve a journal entry by date\")\n",
    "        print(\"3. Exit\")\n",
    "        \n",
    "        # Ask the user to choose an option\n",
    "        choice = input(\"Choose an option (1/2/3): \").strip()\n",
    "        \n",
    "        if choice == '1':\n",
    "            write_entry()  # Call the function to write a new entry\n",
    "        elif choice == '2':\n",
    "            retrieve_entry()  # Call the function to retrieve an entry\n",
    "        elif choice == '3':\n",
    "            print(\"Exiting the journal. Goodbye!\")  # Exit the app\n",
    "            break\n",
    "        else:\n",
    "            print(\"Invalid choice. Please choose 1, 2, or 3.\")  # Handle invalid input\n",
    "\n",
    "# Entry point for the script\n",
    "if __name__ == \"__main__\":\n",
    "    create_journal_directory()  # Ensure the journal directory exists\n",
    "    journal_menu()  # Start the journal menu\n"
   ]
  },
  {
   "cell_type": "code",
   "execution_count": null,
   "id": "e1bb0942-eea5-48a1-9b5c-201ef281bbd5",
   "metadata": {},
   "outputs": [],
   "source": []
  }
 ],
 "metadata": {
  "kernelspec": {
   "display_name": "Python 3 (ipykernel)",
   "language": "python",
   "name": "python3"
  },
  "language_info": {
   "codemirror_mode": {
    "name": "ipython",
    "version": 3
   },
   "file_extension": ".py",
   "mimetype": "text/x-python",
   "name": "python",
   "nbconvert_exporter": "python",
   "pygments_lexer": "ipython3",
   "version": "3.12.4"
  }
 },
 "nbformat": 4,
 "nbformat_minor": 5
}
