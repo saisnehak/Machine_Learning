{
 "cells": [
  {
   "cell_type": "code",
   "execution_count": 6,
   "id": "5a434792-6677-4475-a690-4b0d4bd4b512",
   "metadata": {},
   "outputs": [
    {
     "name": "stdout",
     "output_type": "stream",
     "text": [
      " welcome to the guessing game🎲🕹\n",
      " The game will be continud untill the correct answer is provided , so no worries\n",
      " But the numbetr of attempts will be displayed\n",
      "All the best\n"
     ]
    },
    {
     "name": "stdin",
     "output_type": "stream",
     "text": [
      "guess the number:- 22\n"
     ]
    },
    {
     "name": "stdout",
     "output_type": "stream",
     "text": [
      "number you provided 22  think higher\n",
      " your num of attempts 1\n"
     ]
    },
    {
     "name": "stdin",
     "output_type": "stream",
     "text": [
      "guess the number:- 50\n"
     ]
    },
    {
     "name": "stdout",
     "output_type": "stream",
     "text": [
      "number you provided 50  think higher\n",
      " your num of attempts 2\n"
     ]
    },
    {
     "name": "stdin",
     "output_type": "stream",
     "text": [
      "guess the number:- 80\n"
     ]
    },
    {
     "name": "stdout",
     "output_type": "stream",
     "text": [
      "number you provided 80  think higher\n",
      " your num of attempts 3\n"
     ]
    },
    {
     "name": "stdin",
     "output_type": "stream",
     "text": [
      "guess the number:- 100\n"
     ]
    },
    {
     "name": "stdout",
     "output_type": "stream",
     "text": [
      " number you provided 100 think lower\n",
      " your num of attempts 4\n"
     ]
    },
    {
     "name": "stdin",
     "output_type": "stream",
     "text": [
      "guess the number:- 88\n"
     ]
    },
    {
     "name": "stdout",
     "output_type": "stream",
     "text": [
      "number you provided 88  think higher\n",
      " your num of attempts 5\n"
     ]
    },
    {
     "name": "stdin",
     "output_type": "stream",
     "text": [
      "guess the number:- 90\n"
     ]
    },
    {
     "name": "stdout",
     "output_type": "stream",
     "text": [
      "number you provided 90  think higher\n",
      " your num of attempts 6\n"
     ]
    },
    {
     "name": "stdin",
     "output_type": "stream",
     "text": [
      "guess the number:- 99\n"
     ]
    },
    {
     "name": "stdout",
     "output_type": "stream",
     "text": [
      " number you provided 99 think lower\n",
      " your num of attempts 7\n"
     ]
    },
    {
     "name": "stdin",
     "output_type": "stream",
     "text": [
      "guess the number:- 95\n"
     ]
    },
    {
     "name": "stdout",
     "output_type": "stream",
     "text": [
      " hooray! you rocked \n"
     ]
    }
   ],
   "source": [
    "import random\n",
    "rand = random.randint(1,100)\n",
    "print(\" welcome to the guessing game🎲🕹\")\n",
    "print(\" The game will be continud untill the correct answer is provided , so no worries\")\n",
    "print(\" But the numbetr of attempts will be displayed\")\n",
    "print(\"All the best\") \n",
    "attempts=0\n",
    "while True:\n",
    "    guess = int(input(\"guess the number:-\"))\n",
    "    if rand == guess:\n",
    "        print(\" hooray! you rocked \")\n",
    "        break\n",
    "    elif rand > guess:\n",
    "        print(f\"number you provided {guess}  think higher\")\n",
    "    else:\n",
    "        print(f\" number you provided {guess} think lower\")\n",
    "    attempts +=1\n",
    "    print(f\" your num of attempts {attempts}\")"
   ]
  },
  {
   "cell_type": "code",
   "execution_count": null,
   "id": "b1474b97-e9fc-4de6-bcf2-9b94946f39cc",
   "metadata": {},
   "outputs": [],
   "source": []
  }
 ],
 "metadata": {
  "kernelspec": {
   "display_name": "Python 3 (ipykernel)",
   "language": "python",
   "name": "python3"
  },
  "language_info": {
   "codemirror_mode": {
    "name": "ipython",
    "version": 3
   },
   "file_extension": ".py",
   "mimetype": "text/x-python",
   "name": "python",
   "nbconvert_exporter": "python",
   "pygments_lexer": "ipython3",
   "version": "3.12.4"
  }
 },
 "nbformat": 4,
 "nbformat_minor": 5
}
