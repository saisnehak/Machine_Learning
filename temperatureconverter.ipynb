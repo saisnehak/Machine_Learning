{
 "cells": [
  {
   "cell_type": "code",
   "execution_count": 9,
   "id": "82dcbff3-adda-4b57-a41d-f7b02ad1ff53",
   "metadata": {},
   "outputs": [
    {
     "name": "stdin",
     "output_type": "stream",
     "text": [
      "Enter the temperature:  30\n",
      "Enter the unit (C, F, K):  C\n"
     ]
    },
    {
     "name": "stdout",
     "output_type": "stream",
     "text": [
      "30.0°C = 86.00°F = 303.15K\n"
     ]
    }
   ],
   "source": [
    "def convert_temperature(temperature, unit):\n",
    "  if unit == \"C\":\n",
    "    fahrenheit = (temperature * 9/5) + 32\n",
    "    kelvin = temperature + 273.15\n",
    "    print(f\"{temperature}°C = {fahrenheit:.2f}°F = {kelvin:.2f}K\")\n",
    "  elif unit == \"F\":\n",
    "    celsius = (temperature - 32) * 5/9\n",
    "    kelvin = (celsius + 273.15)\n",
    "    print(f\"{temperature}°F = {celsius:.2f}°C = {kelvin:.2f}K\")\n",
    "  elif unit == \"K\":\n",
    "    celsius = temperature - 273.15\n",
    "    fahrenheit = (celsius * 9/5) + 32\n",
    "    print(f\"{temperature}K = {celsius:.2f}°C = {fahrenheit:.2f}°F\")\n",
    "  else:\n",
    "    print(\"Invalid unit. Please enter C, F, or K\")\n",
    "\n",
    "if __name__ == \"__main__\":\n",
    "  temperature = float(input(\"Enter the temperature: \"))\n",
    "  unit = input(\"Enter the unit (C, F, K): \")\n",
    "  result = convert_temperature(temperature, unit)\n",
    "  "
   ]
  },
  {
   "cell_type": "code",
   "execution_count": null,
   "id": "4f3fa83a-f319-496c-bf6b-b5c2250ee320",
   "metadata": {},
   "outputs": [],
   "source": []
  }
 ],
 "metadata": {
  "kernelspec": {
   "display_name": "Python 3 (ipykernel)",
   "language": "python",
   "name": "python3"
  },
  "language_info": {
   "codemirror_mode": {
    "name": "ipython",
    "version": 3
   },
   "file_extension": ".py",
   "mimetype": "text/x-python",
   "name": "python",
   "nbconvert_exporter": "python",
   "pygments_lexer": "ipython3",
   "version": "3.12.4"
  }
 },
 "nbformat": 4,
 "nbformat_minor": 5
}
