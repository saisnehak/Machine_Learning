{
 "cells": [
  {
   "cell_type": "code",
   "execution_count": 1,
   "id": "5bb032c7-65d3-49a2-a506-14118a296a77",
   "metadata": {},
   "outputs": [],
   "source": [
    "# imported pandas and json and csv \n",
    "import csv \n",
    "import json\n",
    "import pandas as pd"
   ]
  },
  {
   "cell_type": "code",
   "execution_count": 3,
   "id": "2311308d-c6b0-42be-b4fa-5b4c10ac7842",
   "metadata": {},
   "outputs": [
    {
     "name": "stdout",
     "output_type": "stream",
     "text": [
      "file created successfully\n"
     ]
    }
   ],
   "source": [
    "# opening file in read mode \n",
    "with open('sales_data.csv','r') as df:\n",
    "    reader=csv.DictReader(df)# dictreader method automatically reads the first row as header\n",
    "    rows=list(reader)# preparing list to store all row data \n",
    "    jsondata=json.dumps(rows, indent=4)\n",
    "\n",
    "with open('sales_data.json','w')as file:\n",
    "    json_readable_file=file.write(jsondata)\n",
    "    json_readable_file\n",
    "    print(\"file created successfully\")\n",
    "    "
   ]
  },
  {
   "cell_type": "code",
   "execution_count": null,
   "id": "46499c3c-a956-46ef-9298-1d14e0c84daa",
   "metadata": {},
   "outputs": [],
   "source": []
  }
 ],
 "metadata": {
  "kernelspec": {
   "display_name": "Python 3 (ipykernel)",
   "language": "python",
   "name": "python3"
  },
  "language_info": {
   "codemirror_mode": {
    "name": "ipython",
    "version": 3
   },
   "file_extension": ".py",
   "mimetype": "text/x-python",
   "name": "python",
   "nbconvert_exporter": "python",
   "pygments_lexer": "ipython3",
   "version": "3.12.4"
  }
 },
 "nbformat": 4,
 "nbformat_minor": 5
}
