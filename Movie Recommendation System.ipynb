{
 "cells": [
  {
   "cell_type": "markdown",
   "id": "a05783dc-58fc-4e19-a640-397c8845f129",
   "metadata": {},
   "source": [
    "### Q: Continue working on the movie recommendation system. Use lists and dictionaries to store user preferences, movie details, and recommendations\n",
    "###    - Use **lists** to store movie data.\n",
    "###     - Use **dictionaries** to map users to their preferences (e.g., genres they like).\n",
    "###     - Use **sets** to manage unique genres or movie recommendations.\n",
    "###     - Practice **iteration** to loop through users and recommend movies based on their preferences."
   ]
  },
  {
   "cell_type": "code",
   "execution_count": 15,
   "id": "d69ab644-8fe3-4354-b747-1afd0dc387e8",
   "metadata": {},
   "outputs": [],
   "source": [
    "\n",
    "movies = [\n",
    "    {'title': 'Mahanati', 'genre': 'Biography'},\n",
    "    {'title': 'Hi Nanna', 'genre': 'Drama'},\n",
    "    {'title': 'Maharshi', 'genre': 'Action'},\n",
    "    {'title': 'Bharat Ane Nenu', 'genre': 'Political Drama'},\n",
    "    {'title': 'RRR', 'genre': 'Action'},\n",
    "    {'title': 'Kalki', 'genre': 'Thriller'},\n",
    "    {'title': 'Sita Ramam', 'genre': 'Romance'},\n",
    "]\n",
    "                                                            # List of Telugu movies as a dictionary"
   ]
  },
  {
   "cell_type": "code",
   "execution_count": 17,
   "id": "4dc5f5d1-5a41-4f63-b7b4-c749069d61a0",
   "metadata": {},
   "outputs": [],
   "source": [
    "# Dictionary to map users to their preferred genres\n",
    "user_preferences = {\n",
    "    'Trishik': ['Action', 'Drama'], \n",
    "    'Sneha': ['Romance', 'Biography'], \n",
    "    'Slagi': ['Political Drama'], \n",
    "    'Jeeva': ['Thriller'],                                              \n",
    "}\n"
   ]
  },
  {
   "cell_type": "code",
   "execution_count": 19,
   "id": "5c98bdec-6381-46a1-b478-6763f5a7da47",
   "metadata": {},
   "outputs": [
    {
     "name": "stdout",
     "output_type": "stream",
     "text": [
      "Movie Recommendations:\n",
      "======================\n",
      "Recommended movies for Trishik: Hi Nanna, Maharshi, RRR\n",
      "Recommended movies for Sneha: Mahanati, Sita Ramam\n",
      "Recommended movies for Slagi: Bharat Ane Nenu\n",
      "Recommended movies for Jeeva: Kalki\n"
     ]
    }
   ],
   "source": [
    "\n",
    "\n",
    "def recommend_movies(user):\n",
    "    preferred_genres = user_preferences.get(user, [])\n",
    "    recommended_movies = set()  # Use a set to avoid duplicates \n",
    "\n",
    "   \n",
    "    check_genre = lambda movie: movie['genre'] in preferred_genres    # Use a lambda function for checking genre preferences\n",
    "\n",
    "    for movie in movies:                              \n",
    "        try:                                                     #using try except method\n",
    "            if check_genre(movie):\n",
    "                recommended_movies.add(movie['title'])\n",
    "        except KeyError as e:                                                \n",
    "            print(f\"Error: Missing key {e} in movie data.\")\n",
    "\n",
    "    return recommended_movies\n",
    "\n",
    " # Iterating given users& print movie recommendations for the users\n",
    "print(\"Movie Recommendations:\")\n",
    "print(\"======================\")\n",
    "for user in user_preferences:\n",
    "    recommendations = recommend_movies(user)\n",
    "    if recommendations:\n",
    "        print(f\"Recommended movies for {user}: {', '.join(recommendations)}\")\n",
    "    else:\n",
    "        print(f\"No recommendations for {user}.\")"
   ]
  },
  {
   "cell_type": "code",
   "execution_count": null,
   "id": "b05f9187-be41-4eb1-8b20-6f2323e7b1f5",
   "metadata": {},
   "outputs": [],
   "source": []
  }
 ],
 "metadata": {
  "kernelspec": {
   "display_name": "Python 3 (ipykernel)",
   "language": "python",
   "name": "python3"
  },
  "language_info": {
   "codemirror_mode": {
    "name": "ipython",
    "version": 3
   },
   "file_extension": ".py",
   "mimetype": "text/x-python",
   "name": "python",
   "nbconvert_exporter": "python",
   "pygments_lexer": "ipython3",
   "version": "3.12.4"
  }
 },
 "nbformat": 4,
 "nbformat_minor": 5
}
